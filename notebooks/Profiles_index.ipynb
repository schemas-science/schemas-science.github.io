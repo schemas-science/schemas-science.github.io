{
 "cells": [
  {
   "cell_type": "code",
   "execution_count": 1,
   "id": "61220644",
   "metadata": {},
   "outputs": [],
   "source": [
    "from jinja2 import Template, Environment, FileSystemLoader\n",
    "import os\n",
    "import json\n",
    "\n",
    "env = Environment(loader=FileSystemLoader(\"./templates\"))\n",
    "#template = env.get_template(\"index.tmpl\")\n",
    "#print(template.render())"
   ]
  },
  {
   "cell_type": "markdown",
   "id": "e312b457",
   "metadata": {},
   "source": [
    "# 0. Retrieving the raw json file for profiles"
   ]
  },
  {
   "cell_type": "code",
   "execution_count": 2,
   "id": "b46b15bf",
   "metadata": {},
   "outputs": [
    {
     "name": "stdout",
     "output_type": "stream",
     "text": [
      "--2025-02-18 11:38:21--  https://github.com/BioSchemas/bioschemas-dde/raw/main/bioschemas.json\n",
      "Résolution de github.com (github.com)… 140.82.121.3\n",
      "Connexion à github.com (github.com)|140.82.121.3|:443… connecté.\n",
      "requête HTTP transmise, en attente de la réponse… 302 Found\n",
      "Emplacement : https://raw.githubusercontent.com/BioSchemas/bioschemas-dde/main/bioschemas.json [suivant]\n",
      "--2025-02-18 11:38:21--  https://raw.githubusercontent.com/BioSchemas/bioschemas-dde/main/bioschemas.json\n",
      "Résolution de raw.githubusercontent.com (raw.githubusercontent.com)… 185.199.108.133, 185.199.109.133, 185.199.110.133, ...\n",
      "Connexion à raw.githubusercontent.com (raw.githubusercontent.com)|185.199.108.133|:443… connecté.\n",
      "requête HTTP transmise, en attente de la réponse… 200 OK\n",
      "Taille : 305680 (299K) [text/plain]\n",
      "Sauvegarde en : « bioschemas.json.2 »\n",
      "\n",
      "bioschemas.json.2   100%[===================>] 298,52K  --.-KB/s    ds 0,03s   \n",
      "\n",
      "2025-02-18 11:38:21 (10,5 MB/s) — « bioschemas.json.2 » sauvegardé [305680/305680]\n",
      "\n"
     ]
    }
   ],
   "source": [
    "!wget https://github.com/BioSchemas/bioschemas-dde/raw/main/bioschemas.json "
   ]
  },
  {
   "cell_type": "markdown",
   "id": "07f9410c",
   "metadata": {},
   "source": [
    "# 1. Generating a single markdown document as an index of profiles "
   ]
  },
  {
   "cell_type": "code",
   "execution_count": 3,
   "id": "cb953011",
   "metadata": {},
   "outputs": [],
   "source": [
    "cross_domain_profiles = [\"ComputationalTool\", \"ComputationalWorkflow\", \"FormalParameter\", \n",
    "                         \"Dataset\", \"DataCatalog\", \"Course\", \"CourseInstance\", \"TrainingMaterial\"]"
   ]
  },
  {
   "cell_type": "code",
   "execution_count": 4,
   "id": "b9dc450e",
   "metadata": {},
   "outputs": [],
   "source": [
    "with open(\"./bioschemas.json\") as file:\n",
    "    profiles_dump = json.load(file)"
   ]
  },
  {
   "cell_type": "code",
   "execution_count": 5,
   "id": "5aeb3b48",
   "metadata": {},
   "outputs": [],
   "source": [
    "#profiles_dump"
   ]
  },
  {
   "cell_type": "code",
   "execution_count": 6,
   "id": "e0988713",
   "metadata": {},
   "outputs": [],
   "source": [
    "def list_profiles(data):\n",
    "    profiles = []\n",
    "    for p in data[\"@graph\"]:\n",
    "        print(\"###\")\n",
    "        print(p[\"rdfs:label\"])\n",
    "        print()\n",
    "        print(p[\"rdfs:comment\"])\n",
    "        print()\n",
    "        name = p[\"rdfs:label\"]\n",
    "        desc = p[\"rdfs:comment\"]\n",
    "        if name in cross_domain_profiles:\n",
    "            #[a relative link](other_file.md)\n",
    "            profiles.append({\"name\": f\"[{name}](profiles/{name}.md)\", \n",
    "                             \"description\": desc})\n",
    "    return profiles"
   ]
  },
  {
   "cell_type": "code",
   "execution_count": 7,
   "id": "630bdb80",
   "metadata": {},
   "outputs": [
    {
     "name": "stdout",
     "output_type": "stream",
     "text": [
      "###\n",
      "ChemicalSubstance\n",
      "\n",
      "This profile describes a ChemicalSubstance which is 'a portion of matter of constant composition, composed of molecular entities of the same type or of different types' (source: ChEBI:59999). Note, the parent class for this profile has been updated to a pending class in schema.org.\n",
      "\n",
      "###\n",
      "Gene\n",
      "\n",
      "Bioschemas profile describing a Gene in Life Sciences. This Gene profile specification presents the markup for describing a Gene and is based on the 1.0 release. Note, the parent class for this profile has been updated to a pending class in schema.org.\n",
      "\n",
      "###\n",
      "Taxon\n",
      "\n",
      "Bioschemas profile for describing a biological taxon This profile aims to denote a taxon by common properties such as its scientific name, taxonomic rank and vernacular names. It is also a means to link to existing taxonomic registers where each taxon has a URI. Version 1.0-RELEASE.<br/><h3>Summary of Changes</h3><br>Changes since 0.8-DRAFT:<ul><li>None. Version 0.8-DRAFT was the draft approved for release.</li></ul>\n",
      "\n",
      "###\n",
      "MolecularEntity\n",
      "\n",
      "Bioschemas profile describing a MolecularEntity. Any constitutionally or isotopically distinct atom, molecule, ion, ion pair, radical, radical ion, complex, conformer etc., identifiable as a separately distinguishable entity. (Source: ChEBI:23367) based on version 0.5. Note, the parent class for this profile has been updated to a pending class in schema.org.\n",
      "\n",
      "###\n",
      "Protein\n",
      "\n",
      "Bioschemas profile describing a Protein in Life Sciences. This Protein profile specification presents the most common properties used for a Protein and is based on Version 0.11. Note, the parent class for this profile has been updated to a pending class in schema.org.\n",
      "\n",
      "###\n",
      "FormalParameter\n",
      "\n",
      "Bioschemas specification for describing a formal parameter in the Life Sciences. Version: 1.0-RELEASE (09 March 2021) \n",
      "\n",
      "###\n",
      "ComputationalTool\n",
      "\n",
      "The Life Science Tools specification provides a way to describe bioscience tools and software on the World Wide Web. It defines a set of metadata and vocabularies, built on top of existing technologies and standards, that can be used to represent such tools in Web pages and applications. The goal of the specification is to make it easier to discover. Version 1.0-RELEASE.<h3>Summary of Changes</h3> <p>Changes since the 0.6-DRAFT</p> <ul> <li>additionalType property deprecated and replaced by applicationCategory.</li><li>example added for the name property.</li></ul>\n",
      "\n",
      "###\n",
      "ComputationalWorkflow\n",
      "\n",
      "A computational workflow consists of an orchestrated and repeatable pattern of activity enabled by the systematic organization of resources into processes that transform materials, provide services, or process information (source Wikipedia.org). It is executed by a computational process and is thus distinct from laboratory or business workflows. version 1.0-RELEASE\n",
      "\n",
      "###\n",
      "DataCatalog\n",
      "\n",
      "A guide for how to describe data catalogs/repositories in the life-sciences using Schema.org-like annotation. Version 0.3-RELEASE-2019_07_01\n",
      "\n",
      "###\n",
      "Dataset\n",
      "\n",
      "A guide for how to describe datasets in the life-sciences using Schema.org-like annotation. Version 1.0-RELEASE. <h3>Summary of Changes</h3> <br>Key changes since 0.3-RELEASE:<ul><li>Updated properties to Schema.org v12.0; various properties added at recommended or optional level, expected types updated. See 0.4-DRAFT for full details</li><li>license now a minimum property</li><li>keywords: Cardinality #501 – Cardinality is MANY</li><li>distribution: Cardinality #574 – Cardinality changed to MANY</li><li>datePublished: Increased marginlity #576 – Now recommended</li><li>publisher: Increased marginlity, Cardinality #576 – Now recommended with MANY cardinality</li></ul>\n",
      "\n",
      "###\n",
      "Sample\n",
      "\n",
      "To deliver on the identified use cases for samples, we have identified a minimal set of properties to encapsulate identification, linking, and metadata descriptions. Some of these properties are existing standard schema.org properties, others require Bioschemas extensions. Table 1 outlines the minimal set of properties for the ‘Sample’ concept and Table 2 shows our recommendations for use of the ‘PropertyValue’ concept to markup additional characteristics of a sample described within a sample page. We also propose a new concept, ‘Biomedical Code’, which is a generalisation of the existing ‘Medical Code’ concept defined in the health-lifesci.schema.org extension.\n",
      "\n",
      "###\n",
      "Course\n",
      "\n",
      "Specification describing a course.  This specification must be used in tandem with a courseInstance. A course is used to describe the broad, common aspects of a recurring training event - whereas a course instance is about the specific times and location of when that course is held. <h4>Summary of Changes</h4>    No changes since 0.10-DRAFT of the Course profile.</li>         </ul> Version: 1.0-RELEASE (13 September 2022) \n",
      "\n",
      "###\n",
      "CourseInstance\n",
      "\n",
      "Specification describing the instance of a course.  This specification can be used in tandem with a Course. A course is used to describe the broad, common aspects of a recurring training event - whereas a course instance is about the specific times and location of when that course is held. <h4>Summary of Changes</h4>    No changes since 0.9-DRAFT of the CourseInstance profile. Version: 1.0-RELEASE (13 September 2022)\n",
      "\n",
      "###\n",
      "TrainingMaterial\n",
      "\n",
      "A specification for describing training materials in life sciences. The Life Science Training Materials specification provides a way to describe bioscience training material on the World Wide Web. It defines a set of metadata and vocabularies, built on top of existing technologies and standards, that can be used to represent events in Web pages and applications. The goal of the specification is to make it easier to discover, exchange and integrate life science training material information across the Internet.<h4>Summary of Changes</h4> No changes since 0.9-DRAFT of the TrainingMaterials profile. Version: 1.0-RELEASE\n",
      "\n",
      "###\n",
      "TaxonName\n",
      "\n",
      "Bioschemas profile for describing a name of a biological taxon, which may be valid (zoology) / accepted (botany) or not. This profile povides a way to denote the scientific names of a taxon. The taxon accepted/valid name is linked to the taxon with property scientificName while the synonyms are linked with property alternateScientificName. Version: 1.0-RELEASE. <h3>Summary of Changes</h3><br>Changes since Version 0.2-DRAFT:<ul><li>None. Version 0.2-DRAFT was approved to become a release</li></ul>\n",
      "\n",
      "###\n",
      "hasStatus\n",
      "\n",
      "One of pseudogene, dead, killed, live, predicted, suppressed.\n",
      "\n",
      "###\n",
      "vernacularName\n",
      "\n",
      "A vernacular (common) name of the taxon.\n",
      "\n",
      "###\n",
      "scientificName\n",
      "\n",
      "A TaxonName representing the currently valid (zoological) or accepted (botanical) name for that taxon.\n",
      "\n",
      "###\n",
      "alternateScientificName\n",
      "\n",
      "A TaxonName representing a scientific name, with authorship and date information if known, of a synonym of the currently valid (zoological) or accepted (botanical) name.\n",
      "\n",
      "###\n",
      "isBasedOn\n",
      "\n",
      "A resource from which this work is derived or from which it is a modification or adaption. Supersedes, isBasedOnUrl. \n",
      " A CreativeWork, such as a scholarly article, asserting the status of the accepted/valid name and synonyms, retained for the taxon circumscription.\n",
      "\n",
      "###\n",
      "codeRepository\n",
      "\n",
      "Link to the repository where the un-compiled, human readable code and related code is located (SVN, github, CodePlex).\n",
      "\n",
      "###\n",
      "input\n",
      "\n",
      "Specification of a consumed input.\n",
      "\n",
      "###\n",
      "output\n",
      "\n",
      "Specification of a produced output.\n",
      "\n",
      "###\n",
      "programmingLanguage\n",
      "\n",
      "The computer programming language.\n",
      "\n",
      "###\n",
      "conformsTo\n",
      "\n",
      "Used to state the Bioschemas profile that the markup relates to. The versioned URL of the profile must be used. Note that we use a CURIE in the table here but the full URL for Dublin Core terms must be used in the markup (http://purl.org/dc/terms/conformsTo), see example.\n",
      "\n"
     ]
    }
   ],
   "source": [
    "all_profiles = list_profiles(profiles_dump)"
   ]
  },
  {
   "cell_type": "code",
   "execution_count": 55,
   "id": "99a293a2",
   "metadata": {},
   "outputs": [],
   "source": [
    "#profiles\n",
    "#print(json.dumps(all_profiles, indent=True))"
   ]
  },
  {
   "cell_type": "code",
   "execution_count": 8,
   "id": "8da38d1e",
   "metadata": {},
   "outputs": [
    {
     "name": "stdout",
     "output_type": "stream",
     "text": [
      "# Welcome to schemas.science\n",
      "\n",
      "## What is schemas.science?\n",
      "\n",
      "**[schemas.science](https://schemas.science)** is a community effort which aims at improving the Findability on the Web\n",
      "of scientific research data, products and resources. It does this by encouraging the use\n",
      "of [Schema.org](https://schema.org/) markup in their\n",
      "websites so that they are indexable by search engines and other services. schemas.science encourages the consistent use\n",
      "of markup tailored for diverse scientific domains. This structured information then makes it easier to\n",
      "discover, collate, analyse and consume distributed resources.\n",
      "\n",
      "## Cross domain schemas\n",
      "\n",
      "\n",
      "| Name              | Description                          |\n",
      "| :---------------- | :----------------------------------- |\n",
      "| [FormalParameter](profiles/FormalParameter.md) | Bioschemas specification for describing a formal parameter in the Life Sciences. Version: 1.0-RELEASE (09 March 2021)   |\n",
      "| [ComputationalTool](profiles/ComputationalTool.md) | The Life Science Tools specification provides a way to describe bioscience tools and software on the World Wide Web. It defines a set of metadata and vocabularies, built on top of existing technologies and standards, that can be used to represent such tools in Web pages and applications. The goal of the specification is to make it easier to discover. Version 1.0-RELEASE.<h3>Summary of Changes</h3> <p>Changes since the 0.6-DRAFT</p> <ul> <li>additionalType property deprecated and replaced by applicationCategory.</li><li>example added for the name property.</li></ul>  |\n",
      "| [ComputationalWorkflow](profiles/ComputationalWorkflow.md) | A computational workflow consists of an orchestrated and repeatable pattern of activity enabled by the systematic organization of resources into processes that transform materials, provide services, or process information (source Wikipedia.org). It is executed by a computational process and is thus distinct from laboratory or business workflows. version 1.0-RELEASE  |\n",
      "| [DataCatalog](profiles/DataCatalog.md) | A guide for how to describe data catalogs/repositories in the life-sciences using Schema.org-like annotation. Version 0.3-RELEASE-2019_07_01  |\n",
      "| [Dataset](profiles/Dataset.md) | A guide for how to describe datasets in the life-sciences using Schema.org-like annotation. Version 1.0-RELEASE. <h3>Summary of Changes</h3> <br>Key changes since 0.3-RELEASE:<ul><li>Updated properties to Schema.org v12.0; various properties added at recommended or optional level, expected types updated. See 0.4-DRAFT for full details</li><li>license now a minimum property</li><li>keywords: Cardinality #501 – Cardinality is MANY</li><li>distribution: Cardinality #574 – Cardinality changed to MANY</li><li>datePublished: Increased marginlity #576 – Now recommended</li><li>publisher: Increased marginlity, Cardinality #576 – Now recommended with MANY cardinality</li></ul>  |\n",
      "| [Course](profiles/Course.md) | Specification describing a course.  This specification must be used in tandem with a courseInstance. A course is used to describe the broad, common aspects of a recurring training event - whereas a course instance is about the specific times and location of when that course is held. <h4>Summary of Changes</h4>    No changes since 0.10-DRAFT of the Course profile.</li>         </ul> Version: 1.0-RELEASE (13 September 2022)   |\n",
      "| [CourseInstance](profiles/CourseInstance.md) | Specification describing the instance of a course.  This specification can be used in tandem with a Course. A course is used to describe the broad, common aspects of a recurring training event - whereas a course instance is about the specific times and location of when that course is held. <h4>Summary of Changes</h4>    No changes since 0.9-DRAFT of the CourseInstance profile. Version: 1.0-RELEASE (13 September 2022)  |\n",
      "| [TrainingMaterial](profiles/TrainingMaterial.md) | A specification for describing training materials in life sciences. The Life Science Training Materials specification provides a way to describe bioscience training material on the World Wide Web. It defines a set of metadata and vocabularies, built on top of existing technologies and standards, that can be used to represent events in Web pages and applications. The goal of the specification is to make it easier to discover, exchange and integrate life science training material information across the Internet.<h4>Summary of Changes</h4> No changes since 0.9-DRAFT of the TrainingMaterials profile. Version: 1.0-RELEASE  |\n",
      "\n",
      "\n",
      "\n",
      "\n",
      "\n",
      "\n"
     ]
    }
   ],
   "source": [
    "profiles_tmpl = env.get_template(\"profiles.tmpl\")\n",
    "output = profiles_tmpl.render(profiles=all_profiles)\n",
    "print(output)"
   ]
  },
  {
   "cell_type": "code",
   "execution_count": 9,
   "id": "7e5b22ad",
   "metadata": {},
   "outputs": [],
   "source": [
    "with open(\"../docs/index.md\", 'w') as out_file:\n",
    "    out_file.writelines(output)"
   ]
  },
  {
   "cell_type": "code",
   "execution_count": null,
   "id": "5daedaf5",
   "metadata": {},
   "outputs": [],
   "source": []
  },
  {
   "cell_type": "code",
   "execution_count": null,
   "id": "e37bdefe",
   "metadata": {},
   "outputs": [],
   "source": []
  }
 ],
 "metadata": {
  "kernelspec": {
   "display_name": "Python 3 (ipykernel)",
   "language": "python",
   "name": "python3"
  },
  "language_info": {
   "codemirror_mode": {
    "name": "ipython",
    "version": 3
   },
   "file_extension": ".py",
   "mimetype": "text/x-python",
   "name": "python",
   "nbconvert_exporter": "python",
   "pygments_lexer": "ipython3",
   "version": "3.9.9"
  }
 },
 "nbformat": 4,
 "nbformat_minor": 5
}
