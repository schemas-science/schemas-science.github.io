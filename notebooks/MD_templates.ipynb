{
 "cells": [
  {
   "cell_type": "code",
   "execution_count": 8,
   "id": "4a249ba9",
   "metadata": {},
   "outputs": [],
   "source": [
    "from jinja2 import Template, Environment, FileSystemLoader\n",
    "import os"
   ]
  },
  {
   "cell_type": "code",
   "execution_count": 16,
   "id": "b75ab557",
   "metadata": {},
   "outputs": [
    {
     "name": "stdout",
     "output_type": "stream",
     "text": [
      "# Title\n",
      "\n",
      "## Introduction \n",
      "\n",
      "bla bla bla \n",
      "\n",
      "## Content \n",
      "\n",
      "\n",
      "\n",
      "\n",
      "\n"
     ]
    }
   ],
   "source": [
    "env = Environment(loader=FileSystemLoader(\"./templates\"))\n",
    "template = env.get_template(\"page.tmpl\")\n",
    "print(template.render())"
   ]
  },
  {
   "cell_type": "code",
   "execution_count": 26,
   "id": "985a27b5",
   "metadata": {},
   "outputs": [
    {
     "name": "stdout",
     "output_type": "stream",
     "text": [
      "\n",
      "# Title\n",
      "\n",
      "## Introduction \n",
      "\n",
      "bla bla bla \n",
      "\n",
      "## Content \n",
      "\n",
      "### Here are the available profiles    \n",
      "\n",
      "| Name              | Description                          |\n",
      "| :---------------- | :----------------------------------- |\n",
      "| bioschemas:ChemicalSubstance | This profile describes a ChemicalSubstance which is 'a portion of matter of constant composition, composed of molecular entities of the same type or of different types' (source: ChEBI:59999). Note, the parent class for this profile has been updated to a pending class in schema.org.  |\n",
      "| Gene | Bioschemas profile describing a Gene in Life Sciences. This Gene profile specification presents the markup for describing a Gene and is based on the 1.0 release. Note, the parent class for this profile has been updated to a pending class in schema.org.  |\n",
      "\n",
      "\n",
      "\n",
      "\n",
      "\n",
      "\n"
     ]
    }
   ],
   "source": [
    "table_template = \"\"\"\n",
    "{% extends \"page.tmpl\" %}\n",
    "{% block content %}\n",
    "### Here are the available profiles    \n",
    "\n",
    "| Name              | Description                          |\n",
    "| :---------------- | :----------------------------------- |\n",
    "{% for p in profiles -%}\n",
    "| {{p[\"name\"]}} | {{p[\"description\"]}}  |\n",
    "{% endfor %}\n",
    "\n",
    "{% endblock %}\n",
    "\"\"\"\n",
    "\n",
    "dummy_profiles = [{\n",
    "        \"name\": \"bioschemas:ChemicalSubstance\", \n",
    "        \"description\": \"This profile describes a ChemicalSubstance which is 'a portion of matter of constant composition, composed of molecular entities of the same type or of different types' (source: ChEBI:59999). Note, the parent class for this profile has been updated to a pending class in schema.org.\"\n",
    "    }, \n",
    "    {\n",
    "        \"name\": \"Gene\", \n",
    "        \"description\": \"Bioschemas profile describing a Gene in Life Sciences. This Gene profile specification presents the markup for describing a Gene and is based on the 1.0 release. Note, the parent class for this profile has been updated to a pending class in schema.org.\"\n",
    "    }]\n",
    "\n",
    "template = env.from_string(table_template)\n",
    "output = template.render(profiles=dummy_profiles)\n",
    "print(output)"
   ]
  },
  {
   "cell_type": "code",
   "execution_count": null,
   "id": "d3a890e1",
   "metadata": {},
   "outputs": [],
   "source": []
  }
 ],
 "metadata": {
  "kernelspec": {
   "display_name": "Python 3 (ipykernel)",
   "language": "python",
   "name": "python3"
  },
  "language_info": {
   "codemirror_mode": {
    "name": "ipython",
    "version": 3
   },
   "file_extension": ".py",
   "mimetype": "text/x-python",
   "name": "python",
   "nbconvert_exporter": "python",
   "pygments_lexer": "ipython3",
   "version": "3.9.9"
  }
 },
 "nbformat": 4,
 "nbformat_minor": 5
}
